{
 "cells":[
  {
   "cell_type":"code",
   "source":[
    "import pandas as pd\n",
    "import numpy as np"
   ],
   "execution_count":1,
   "outputs":[],
   "metadata":{
    "datalore":{
     "node_id":"HivH13Lgz8VHUX7tEhbtLU",
     "type":"CODE",
     "hide_input_from_viewers":true,
     "hide_output_from_viewers":true
    }
   }
  },
  {
   "cell_type":"code",
   "source":[
    "# Krok 1: Generowanie danych\n",
    "np.random.seed(0)\n",
    "data = {\n",
    "    \"hostname\": [f\"vm-{i+1}\" for i in range(10)],\n",
    "    \"cpu_usage\": np.random.randint(10, 96, 10),\n",
    "    \"memory_gb\": np.random.randint(2, 33, 10),\n",
    "    \"uptime_h\": np.random.randint(0, 1001, 10)\n",
    "}\n",
    "df = pd.DataFrame(data)\n",
    "print(\"Dane wejściowe:\\n\", df)"
   ],
   "execution_count":2,
   "outputs":[
    {
     "name":"stdout",
     "text":[
      "Dane wejściowe:\n",
      "   hostname  cpu_usage  memory_gb  uptime_h\n",
      "0     vm-1         54         26       849\n",
      "1     vm-2         57         26       677\n",
      "2     vm-3         74         14       537\n",
      "3     vm-4         77         28       845\n",
      "4     vm-5         77          3        72\n",
      "5     vm-6         19          8       777\n",
      "6     vm-7         93          9       916\n",
      "7     vm-8         31         25       115\n",
      "8     vm-9         46         16       976\n",
      "9    vm-10         80         26       755\n"
     ],
     "output_type":"stream"
    }
   ],
   "metadata":{
    "datalore":{
     "node_id":"tvvTkcGdyQJC00urdfBKlb",
     "type":"CODE",
     "hide_input_from_viewers":true,
     "hide_output_from_viewers":true
    }
   }
  }
 ],
 "metadata":{
  "kernelspec":{
   "display_name":"Python",
   "language":"python",
   "name":"python"
  },
  "datalore":{
   "computation_mode":"JUPYTER",
   "package_manager":"pip",
   "base_environment":"default_3_11",
   "packages":[],
   "report_row_ids":[],
   "report_tabs":[],
   "version":4
  }
 },
 "nbformat":4,
 "nbformat_minor":4
}