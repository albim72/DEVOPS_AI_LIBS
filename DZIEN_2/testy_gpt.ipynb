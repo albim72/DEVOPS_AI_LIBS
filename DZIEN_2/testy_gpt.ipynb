{
 "cells":[
  {
   "cell_type":"code",
   "source":[
    "def znajdz_najwieksza(lista):\n",
    "    if not lista:\n",
    "        raise ValueError(\"Lista jest pusta\")\n",
    "    najwieksza = lista[0]\n",
    "    for liczba in lista[1:]:\n",
    "        if liczba > najwieksza:\n",
    "            najwieksza = liczba\n",
    "    return najwieksza\n",
    "\n",
    "# Przykład użycia:\n",
    "moje_liczby = [10, 5, 7, 22, 3]\n",
    "print(znajdz_najwieksza(moje_liczby))  # Wynik: 22"
   ],
   "execution_count":1,
   "outputs":[
    {
     "name":"stdout",
     "text":[
      "22\n"
     ],
     "output_type":"stream"
    }
   ],
   "metadata":{
    "datalore":{
     "node_id":"kgXJECgdapO3pRrxywSf5q",
     "type":"CODE",
     "hide_input_from_viewers":true,
     "hide_output_from_viewers":true
    }
   }
  },
  {
   "cell_type":"code",
   "source":[
    "import random\n",
    "import networkx as nx\n",
    "\n",
    "class NarrativeMap:\n",
    "    \"\"\"\n",
    "    Klasa do budowy interaktywnych map narracyjnych w postaci drzewa decyzyjnego dla gier fabularnych.\n",
    "\n",
    "    :param themes: Lista motywów przewodnich (str).\n",
    "    :param locations: Lista dostępnych lokacji (str).\n",
    "    :param characters: Lista postaci (str).\n",
    "    \"\"\"\n",
    "\n",
    "    def __init__(self, themes, locations, characters):\n",
    "        \"\"\"\n",
    "        Inicjalizuje mapę narracyjną na podstawie motywów, lokacji i postaci.\n",
    "        \"\"\"\n",
    "        self.themes = themes\n",
    "        self.locations = locations\n",
    "        self.characters = characters\n",
    "        self.graph = nx.DiGraph()\n",
    "        self._build_decision_tree()\n",
    "\n",
    "    def _build_decision_tree(self):\n",
    "        \"\"\"\n",
    "        Buduje drzewo decyzyjne z losowo generowanymi zdarzeniami, gałęziami oraz parametrami ryzyka\/nagrody.\n",
    "        \"\"\"\n",
    "        # Startowy węzeł\n",
    "        root_id = 0\n",
    "        self.graph.add_node(root_id, description=self._generate_event_description(root_id),\n",
    "                            risk=0, reward=0)\n",
    "        node_queue = [(root_id, 0)]\n",
    "\n",
    "        max_depth = 3\n",
    "        node_id = 1\n",
    "\n",
    "        for depth in range(max_depth):\n",
    "            new_queue = []\n",
    "            for parent_id, _ in node_queue:\n",
    "                # Dwa możliwe wybory na każdym poziomie\n",
    "                for choice_label in [\"zaufaj\", \"zdrada\"] if depth % 2 == 0 else [\"walcz\", \"ucieczka\"]:\n",
    "                    risk = random.randint(1, 10)\n",
    "                    reward = random.randint(1, 10)\n",
    "                    self.graph.add_node(node_id, description=self._generate_event_description(node_id),\n",
    "                                        risk=risk, reward=reward)\n",
    "                    self.graph.add_edge(parent_id, node_id, choice=choice_label)\n",
    "                    new_queue.append((node_id, depth + 1))\n",
    "                    node_id += 1\n",
    "            node_queue = new_queue\n",
    "\n",
    "    def _generate_event_description(self, node_id):\n",
    "        \"\"\"\n",
    "        Generuje opis zdarzenia w oparciu o themes, locations i characters.\n",
    "        (W docelowej wersji wywołuje GPT lub inny generator.)\n",
    "        \"\"\"\n",
    "        # TODO: call GPT here\n",
    "        theme = random.choice(self.themes)\n",
    "        location = random.choice(self.locations)\n",
    "        character = random.choice(self.characters)\n",
    "        sentences = [\n",
    "            f\"W {location} pojawia się {character}.\",\n",
    "            f\"Tajemnicza sytuacja związana z motywem: {theme}.\",\n",
    "            f\"Wybór zmieni losy bohaterów.\"\n",
    "        ]\n",
    "        return \" \".join(random.sample(sentences, 2 + (node_id % 2)))  # 2–3 zdania\n",
    "\n",
    "    def get_path_summary(self, path):\n",
    "        \"\"\"\n",
    "        Zwraca podsumowanie ścieżki wraz z sumą ryzyka i nagrody.\n",
    "\n",
    "        :param path: Lista ID węzłów (int) określająca przebieg ścieżki.\n",
    "        :return: Słownik z opisem, sumą ryzyka i nagrody oraz opisami wyborów.\n",
    "        \"\"\"\n",
    "        summary = []\n",
    "        total_risk = 0\n",
    "        total_reward = 0\n",
    "        for i, node in enumerate(path):\n",
    "            node_data = self.graph.nodes[node]\n",
    "            desc = node_data[\"description\"]\n",
    "            risk = node_data[\"risk\"]\n",
    "            reward = node_data[\"reward\"]\n",
    "            total_risk += risk\n",
    "            total_reward += reward\n",
    "            if i > 0:\n",
    "                choice = self.graph.edges[path[i-1], node][\"choice\"]\n",
    "                summary.append(f\"Wybrano: {choice}\")\n",
    "            summary.append(f\"[Węzeł {node}] {desc} (Ryzyko: {risk}, Nagroda: {reward})\")\n",
    "        return {\n",
    "            \"opis\": \"\\n\".join(summary),\n",
    "            \"suma_ryzyka\": total_risk,\n",
    "            \"suma_nagrody\": total_reward\n",
    "        }\n",
    "\n",
    "    def example_usage(self):\n",
    "        \"\"\"\n",
    "        Przykładowe użycie: generuje i prezentuje przykładową ścieżkę oraz jej podsumowanie.\n",
    "        \"\"\"\n",
    "        root = 0\n",
    "        # Przechodzimy w dół wybierając zawsze pierwszy dostępny węzeł\n",
    "        path = [root]\n",
    "        curr = root\n",
    "        while True:\n",
    "            children = list(self.graph.successors(curr))\n",
    "            if not children:\n",
    "                break\n",
    "            curr = children[0]\n",
    "            path.append(curr)\n",
    "        summary = self.get_path_summary(path)\n",
    "        print(\"Opis przebiegu ścieżki:\")\n",
    "        print(summary[\"opis\"])\n",
    "        print(f\"SUMA RYZYKA: {summary['suma_ryzyka']} | SUMA NAGRODY: {summary['suma_nagrody']}\")\n",
    "\n",
    "\n",
    "if __name__ == \"__main__\":\n",
    "    # Przykład użycia:\n",
    "    themes = [\"odkupienie\", \"tajemnica\"]\n",
    "    locations = [\"opuszczony zamek\", \"mglista dolina\"]\n",
    "    characters = [\"Wędrowiec\", \"Cień\"]\n",
    "\n",
    "    mapa = NarrativeMap(themes, locations, characters)\n",
    "    mapa.example_usage()"
   ],
   "execution_count":3,
   "outputs":[
    {
     "name":"stdout",
     "text":[
      "Opis przebiegu ścieżki:\n",
      "[Węzeł 0] W mglista dolina pojawia się Wędrowiec. Wybór zmieni losy bohaterów. (Ryzyko: 0, Nagroda: 0)\n",
      "Wybrano: zaufaj\n",
      "[Węzeł 1] W opuszczony zamek pojawia się Wędrowiec. Wybór zmieni losy bohaterów. Tajemnicza sytuacja związana z motywem: odkupienie. (Ryzyko: 1, Nagroda: 6)\n",
      "Wybrano: walcz\n",
      "[Węzeł 3] Wybór zmieni losy bohaterów. Tajemnicza sytuacja związana z motywem: odkupienie. W opuszczony zamek pojawia się Cień. (Ryzyko: 7, Nagroda: 3)\n",
      "Wybrano: zaufaj\n",
      "[Węzeł 7] W opuszczony zamek pojawia się Cień. Tajemnicza sytuacja związana z motywem: tajemnica. Wybór zmieni losy bohaterów. (Ryzyko: 9, Nagroda: 1)\n",
      "SUMA RYZYKA: 17 | SUMA NAGRODY: 10\n"
     ],
     "output_type":"stream"
    }
   ],
   "metadata":{
    "datalore":{
     "node_id":"dqa42YXsNBp6qeUEqHrFla",
     "type":"CODE",
     "hide_input_from_viewers":true,
     "hide_output_from_viewers":true
    }
   }
  },
  {
   "cell_type":"code",
   "source":[
    "import mlflow\n",
    "import mlflow.sklearn\n",
    "from sklearn.ensemble import RandomForestRegressor\n",
    "from sklearn.model_selection import train_test_split"
   ],
   "execution_count":2,
   "outputs":[],
   "metadata":{
    "datalore":{
     "node_id":"D69NDyd2G1f3HM4mJ58kQB",
     "type":"CODE",
     "hide_input_from_viewers":true,
     "hide_output_from_viewers":true
    }
   }
  },
  {
   "cell_type":"code",
   "source":[
    "from sklearn.datasets import fetch_california_housing\n",
    "data = fetch_california_housing()\n",
    "X,y = data.data, data.target\n",
    "\n",
    "X_train,X_test,y_train,y_test = train_test_split(X,y,test_size=0.2,random_state=42)"
   ],
   "execution_count":4,
   "outputs":[],
   "metadata":{
    "datalore":{
     "node_id":"5h5h2NHjmOv6nVfekzm5sT",
     "type":"CODE",
     "hide_input_from_viewers":true,
     "hide_output_from_viewers":true
    }
   }
  },
  {
   "cell_type":"code",
   "source":[
    "from sklearn.metrics import mean_squared_error\n",
    "\n",
    "with mlflow.start_run():\n",
    "    model = RandomForestRegressor(n_estimators=100)\n",
    "    model.fit(X_train,y_train)\n",
    "    mlflow.log_param(\"n_estimators\",100)\n",
    "    mlflow.log_metric(\"mse\",mean_squared_error(y_test,model.predict(X_test)))\n",
    "\n",
    "    mlflow.sklearn.log_model(model,\"model\")"
   ],
   "execution_count":6,
   "outputs":[
    {
     "name":"stderr",
     "text":[
      "2025\/07\/22 08:35:28 WARNING mlflow.models.model: `artifact_path` is deprecated. Please use `name` instead.\n",
      "\u001b[31m2025\/07\/22 08:35:35 WARNING mlflow.models.model: Model logged without a signature and input example. Please set `input_example` parameter when logging the model to auto infer the model signature.\u001b[0m\n"
     ],
     "output_type":"stream"
    }
   ],
   "metadata":{
    "datalore":{
     "node_id":"l7xewBHUgUXGYcI7pyOD95",
     "type":"CODE",
     "hide_input_from_viewers":true,
     "hide_output_from_viewers":true
    }
   }
  }
 ],
 "metadata":{
  "kernelspec":{
   "display_name":"Python",
   "language":"python",
   "name":"python"
  },
  "datalore":{
   "computation_mode":"JUPYTER",
   "package_manager":"pip",
   "base_environment":"default_3_11",
   "packages":[
    {
     "name":"mlflow",
     "source":"PIP"
    }
   ],
   "report_row_ids":[],
   "report_tabs":[],
   "version":4
  }
 },
 "nbformat":4,
 "nbformat_minor":4
}